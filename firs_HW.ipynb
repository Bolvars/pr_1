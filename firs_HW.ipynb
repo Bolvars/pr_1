{
 "cells": [
  {
   "cell_type": "code",
   "execution_count": 1,
   "id": "4aecf9b5-6b10-406f-902d-645a13d9f157",
   "metadata": {},
   "outputs": [],
   "source": [
    "import numpy as np\n",
    "import pandas as pd"
   ]
  },
  {
   "cell_type": "code",
   "execution_count": 2,
   "id": "05b1c0b2-3948-474b-9d45-f66f4fa53e43",
   "metadata": {},
   "outputs": [
    {
     "name": "stdout",
     "output_type": "stream",
     "text": [
      "numpy version = 1.26.1\n",
      "pandas version = 2.1.1\n"
     ]
    }
   ],
   "source": [
    "for lib_info in [f'{lib.__name__} version = {lib.__version__}' for lib in [np,pd]]: print(lib_info)"
   ]
  }
 ],
 "metadata": {
  "kernelspec": {
   "display_name": "Python 3 (ipykernel)",
   "language": "python",
   "name": "python3"
  },
  "language_info": {
   "codemirror_mode": {
    "name": "ipython",
    "version": 3
   },
   "file_extension": ".py",
   "mimetype": "text/x-python",
   "name": "python",
   "nbconvert_exporter": "python",
   "pygments_lexer": "ipython3",
   "version": "3.11.5"
  }
 },
 "nbformat": 4,
 "nbformat_minor": 5
}
