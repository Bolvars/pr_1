{
 "cells": [
  {
   "cell_type": "code",
   "execution_count": 3,
   "id": "e7ac6dd7-b6c6-4ed9-bbe8-a949f96411f5",
   "metadata": {},
   "outputs": [
    {
     "name": "stdout",
     "output_type": "stream",
     "text": [
      "version numpy - 1.26.0\n",
      "version pandas - 2.1.1\n"
     ]
    }
   ],
   "source": [
    "import numpy as np\n",
    "import pandas as pd\n",
    "for _ in [f'version {package.__name__} - {package.__version__}' for package in [np,pd]]: print(_)"
   ]
  },
  {
   "cell_type": "code",
   "execution_count": null,
   "id": "7df8e424-cf4d-45f6-8789-ddfa28a2bf70",
   "metadata": {},
   "outputs": [],
   "source": []
  }
 ],
 "metadata": {
  "kernelspec": {
   "display_name": "Python 3 (ipykernel)",
   "language": "python",
   "name": "python3"
  },
  "language_info": {
   "codemirror_mode": {
    "name": "ipython",
    "version": 3
   },
   "file_extension": ".py",
   "mimetype": "text/x-python",
   "name": "python",
   "nbconvert_exporter": "python",
   "pygments_lexer": "ipython3",
   "version": "3.11.5"
  }
 },
 "nbformat": 4,
 "nbformat_minor": 5
}
